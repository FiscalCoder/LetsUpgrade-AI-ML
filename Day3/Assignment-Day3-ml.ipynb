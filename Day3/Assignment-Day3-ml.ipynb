{
 "cells": [
  {
   "cell_type": "markdown",
   "metadata": {},
   "source": [
    "# Assignment - Day3"
   ]
  },
  {
   "cell_type": "markdown",
   "metadata": {},
   "source": [
    "## Question - 1"
   ]
  },
  {
   "cell_type": "code",
   "execution_count": 2,
   "metadata": {},
   "outputs": [
    {
     "name": "stdout",
     "output_type": "stream",
     "text": [
      "Subtraction is :  (1+1j)\n"
     ]
    }
   ],
   "source": [
    "def subComplex( z1, z2): \n",
    "    return z1-z2 \n",
    "  \n",
    "z1 = complex(2, 3) \n",
    "z2 = complex(1, 2) \n",
    "print( \"Subtraction is : \", subComplex(z1, z2)) \n"
   ]
  },
  {
   "cell_type": "markdown",
   "metadata": {},
   "source": [
    "## Question - 2"
   ]
  },
  {
   "cell_type": "code",
   "execution_count": 24,
   "metadata": {},
   "outputs": [
    {
     "data": {
      "text/plain": [
       "256"
      ]
     },
     "execution_count": 24,
     "metadata": {},
     "output_type": "execute_result"
    }
   ],
   "source": [
    "def fourth_root(root):\n",
    "    return root ** 4\n",
    "\n",
    "x = 4\n",
    "fourth_root(x)"
   ]
  },
  {
   "cell_type": "markdown",
   "metadata": {},
   "source": [
    "## Question - 3"
   ]
  },
  {
   "cell_type": "code",
   "execution_count": 25,
   "metadata": {},
   "outputs": [
    {
     "name": "stdout",
     "output_type": "stream",
     "text": [
      "Before Swap:\n",
      "x =  4\n",
      "y =  3\n",
      "\n",
      "After Swap:\n",
      "x =  3\n",
      "y =  4\n"
     ]
    }
   ],
   "source": [
    "x = 4\n",
    "y = 3\n",
    "\n",
    "print(\"Before Swap:\")\n",
    "print(\"x = \", x)\n",
    "print(\"y = \", y)\n",
    "\n",
    "c = x\n",
    "x = y\n",
    "y = c\n",
    "\n",
    "print(\"\\nAfter Swap:\")\n",
    "print(\"x = \", x)\n",
    "print(\"y = \", y)"
   ]
  },
  {
   "cell_type": "markdown",
   "metadata": {},
   "source": [
    "## Question - 4"
   ]
  },
  {
   "cell_type": "code",
   "execution_count": 26,
   "metadata": {},
   "outputs": [
    {
     "name": "stdout",
     "output_type": "stream",
     "text": [
      "Before Swap:\n",
      "x =  4\n",
      "y =  3\n",
      "\n",
      "After Swap:\n",
      "x =  3\n",
      "y =  4\n"
     ]
    }
   ],
   "source": [
    "x = 4\n",
    "y = 3\n",
    "\n",
    "print(\"Before Swap:\")\n",
    "print(\"x = \", x)\n",
    "print(\"y = \", y)\n",
    "\n",
    "x,y = y,x\n",
    "\n",
    "print(\"\\nAfter Swap:\")\n",
    "print(\"x = \", x)\n",
    "print(\"y = \", y)"
   ]
  },
  {
   "cell_type": "markdown",
   "metadata": {},
   "source": [
    "## Question - 5"
   ]
  },
  {
   "cell_type": "code",
   "execution_count": 29,
   "metadata": {},
   "outputs": [
    {
     "name": "stdout",
     "output_type": "stream",
     "text": [
      "Temperature in Kelvin ( K ) = 311.27777777777777\n",
      "Temperature in Kelvin ( K ) = 37.77777777777778\n"
     ]
    }
   ],
   "source": [
    "def Fahrenheit_to_Kelvin(F): \n",
    "    return 273.5 + ((F - 32.0) * (5.0/9.0)) \n",
    "\n",
    "def Fahrenheit_to_Celsius(F): \n",
    "    return (F - 32) * 5/9\n",
    "\n",
    "  \n",
    "F = 100\n",
    "print(\"Temperature in Kelvin ( K ) =\", Fahrenheit_to_Kelvin(F) ) \n",
    "print(\"Temperature in Kelvin ( K ) =\", Fahrenheit_to_Celsius(F) ) "
   ]
  },
  {
   "cell_type": "markdown",
   "metadata": {},
   "source": [
    "## Question - 6"
   ]
  },
  {
   "cell_type": "code",
   "execution_count": 30,
   "metadata": {},
   "outputs": [
    {
     "name": "stdout",
     "output_type": "stream",
     "text": [
      "Bharghav  =  <class 'str'>\n",
      "\n",
      "4  =  <class 'int'>\n",
      "\n",
      "42.2342  =  <class 'float'>\n",
      "\n",
      "(32+1j)  =  <class 'complex'>\n",
      "\n",
      "True  =  <class 'bool'>\n",
      "\n",
      "1.79e+308  =  <class 'float'>\n",
      "\n"
     ]
    }
   ],
   "source": [
    "data = [\"Bharghav\", 4, 42.2342, 32+1j, True, 1.79e308]\n",
    "\n",
    "for i in data:\n",
    "    print(i, \" = \", type(i), end=\"\\n\\n\")"
   ]
  },
  {
   "cell_type": "markdown",
   "metadata": {},
   "source": [
    "## Question - 7"
   ]
  },
  {
   "cell_type": "markdown",
   "metadata": {},
   "source": [
    "### Git hub \n",
    "\n",
    "- create repository \n",
    "- drag and drop the folder from your computer to the github repository folder\n",
    "- copy the link from the day-3 folder and submit it in the google assignment form\n"
   ]
  }
 ],
 "metadata": {
  "kernelspec": {
   "display_name": "Python 3",
   "language": "python",
   "name": "python3"
  },
  "language_info": {
   "codemirror_mode": {
    "name": "ipython",
    "version": 3
   },
   "file_extension": ".py",
   "mimetype": "text/x-python",
   "name": "python",
   "nbconvert_exporter": "python",
   "pygments_lexer": "ipython3",
   "version": "3.7.6"
  }
 },
 "nbformat": 4,
 "nbformat_minor": 4
}
