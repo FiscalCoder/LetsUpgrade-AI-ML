{
 "cells": [
  {
   "cell_type": "markdown",
   "metadata": {},
   "source": [
    "# Assignment - Day5"
   ]
  },
  {
   "cell_type": "markdown",
   "metadata": {},
   "source": [
    "## Question - 1"
   ]
  },
  {
   "cell_type": "code",
   "execution_count": 2,
   "metadata": {},
   "outputs": [
    {
     "name": "stdout",
     "output_type": "stream",
     "text": [
      "3 5 7 11 13 17 19 "
     ]
    }
   ],
   "source": [
    "r=20  \n",
    "for a in range(3,r+1):  \n",
    "    k=0  \n",
    "    for i in range(2,a//2+1):  \n",
    "        if(a%i==0):  \n",
    "            k=k+1  \n",
    "    if(k<=0):  \n",
    "        print(a,end=\" \")  "
   ]
  },
  {
   "cell_type": "markdown",
   "metadata": {},
   "source": [
    "## Question - 2"
   ]
  },
  {
   "cell_type": "code",
   "execution_count": 25,
   "metadata": {},
   "outputs": [
    {
     "name": "stdout",
     "output_type": "stream",
     "text": [
      "Letsupgrade is awesome\n",
      "Letsupgrade Is Awesome\n",
      "4\n",
      "False\n",
      "12\n",
      "False\n",
      "False\n",
      "letsupgrade is awesome\n",
      "LETSUPGRADE IS AWESOME\n",
      "False\n",
      "True\n",
      "False\n",
      "False\n",
      "True\n",
      "True\n"
     ]
    }
   ],
   "source": [
    "str1 = \"LetsUpgrade is awesome\"\n",
    "str2 = '123412'\n",
    "str3 = \"   \"\n",
    "str4 = \"2123.123\"\n",
    "\n",
    "print(str1.capitalize())\n",
    "print(str1.title())\n",
    "print(str1.count('e'))\n",
    "print(str1.isalpha())\n",
    "print(str1.find('i'))\n",
    "print(str1.islower())\n",
    "print(str1.isupper())\n",
    "print(str1.lower())\n",
    "print(str1.upper())\n",
    "print(str1.isidentifier())\n",
    "print(str2.isdigit())\n",
    "print(str1.istitle())\n",
    "print(str4.isdecimal())\n",
    "print(str3.isspace())\n",
    "print(str2.isnumeric())"
   ]
  },
  {
   "cell_type": "markdown",
   "metadata": {},
   "source": [
    "## Question - 3"
   ]
  },
  {
   "cell_type": "code",
   "execution_count": 120,
   "metadata": {},
   "outputs": [
    {
     "name": "stdout",
     "output_type": "stream",
     "text": [
      "anagram is an anagram of nagaram\n",
      "cat is not an anagram of rat\n",
      "malayalam is a palindrome\n",
      "Lets Upgrade is not a palindrome\n"
     ]
    }
   ],
   "source": [
    "def is_check(*args):\n",
    "    if len(args) == 2:\n",
    "        if sorted(args[0]) == sorted(args[1]):\n",
    "            print(args[0], \"is an anagram of\", args[1])\n",
    "        \n",
    "        else:\n",
    "            print(args[0], \"is not an anagram of\", args[1])\n",
    "            \n",
    "    elif len(args) == 1: \n",
    "        if args[0] == args[0][::-1]:\n",
    "            print(args[0], \"is a palindrome\")\n",
    "        \n",
    "        else:\n",
    "            print(args[0], \"is not a palindrome\")\n",
    "\n",
    "# Give single parameter for palindrome check and double parameters for anagram check\n",
    "\n",
    "is_check('anagram','nagaram')\n",
    "is_check('cat','rat')\n",
    "is_check('malayalam')\n",
    "is_check(\"Lets Upgrade\")"
   ]
  },
  {
   "cell_type": "markdown",
   "metadata": {},
   "source": [
    "## Question - 4"
   ]
  },
  {
   "cell_type": "code",
   "execution_count": 91,
   "metadata": {},
   "outputs": [
    {
     "name": "stdout",
     "output_type": "stream",
     "text": [
      "drdarshaningleaimltrainer\n"
     ]
    }
   ],
   "source": [
    "def blank_string(str1):\n",
    "    whitelist = set('abcdefghijklmnopqrstuvwxyzABCDEFGHIJKLMNOPQRSTUVWXYZ')\n",
    "    return ''.join(filter(whitelist.__contains__, myStr)).lower()\n",
    "\n",
    "myStr = \"Dr. Darshan Ingle @AI-ML Trainer\"\n",
    "print(blank_string(myStr))"
   ]
  }
 ],
 "metadata": {
  "kernelspec": {
   "display_name": "Python 3",
   "language": "python",
   "name": "python3"
  },
  "language_info": {
   "codemirror_mode": {
    "name": "ipython",
    "version": 3
   },
   "file_extension": ".py",
   "mimetype": "text/x-python",
   "name": "python",
   "nbconvert_exporter": "python",
   "pygments_lexer": "ipython3",
   "version": "3.7.6"
  }
 },
 "nbformat": 4,
 "nbformat_minor": 4
}
