{
 "cells": [
  {
   "cell_type": "markdown",
   "metadata": {},
   "source": [
    "# Assingment_Day4"
   ]
  },
  {
   "cell_type": "markdown",
   "metadata": {},
   "source": [
    "## Question - 1"
   ]
  },
  {
   "cell_type": "code",
   "execution_count": 7,
   "metadata": {},
   "outputs": [
    {
     "name": "stdout",
     "output_type": "stream",
     "text": [
      "Addition of two complex number = (25+48j)\n",
      "Subtraction of two complex number = (17-36j)\n",
      "Multiplication of two complex number = (-168+906j)\n",
      "Division of two complex number = (0.18876404494382024-0.4820224719101123j)\n"
     ]
    }
   ],
   "source": [
    "#first complex number\n",
    "c1 = 21 + 6j\n",
    "#Second complex number\n",
    "c2 = 4 + 42j\n",
    "\n",
    "#Addition\n",
    "print(\"Addition of two complex number =\", c1 + c2)\n",
    "\n",
    "#Subtraction\n",
    "print(\"Subtraction of two complex number =\", c1 - c2)\n",
    "\n",
    "#Multiplication\n",
    "print(\"Multiplication of two complex number =\", c1 * c2)\n",
    "\n",
    "#Division\n",
    "print(\"Division of two complex number =\", c1 / c2)\n",
    "\n",
    "#Floor Division and modulo cannot be performed on complex numbers\n"
   ]
  },
  {
   "cell_type": "markdown",
   "metadata": {},
   "source": [
    "## Question - 2"
   ]
  },
  {
   "cell_type": "markdown",
   "metadata": {},
   "source": [
    "## Range function\n",
    "- returns a sequence of numbers starting from 0 and increments by 1\n",
    "- range(start, end, stepsize) - the syntax of the function\n",
    "- if only one parameter is passed, that takes it at end and starts from 0\n",
    "- if two parameters are passed, it defines it as start and end\n",
    "- if all three parameters are passed it takes the third parameter as the increment size"
   ]
  },
  {
   "cell_type": "code",
   "execution_count": 24,
   "metadata": {},
   "outputs": [
    {
     "name": "stdout",
     "output_type": "stream",
     "text": [
      "Three parameters: 2 4 6 8 \n",
      "Two parameters: 2 3 4 5 6 7 8 9 \n",
      "One parameter: 1 2 "
     ]
    }
   ],
   "source": [
    "lst = [1,2,3,4,5,6,7,8,9,10]\n",
    "\n",
    "print(\"Three parameters:\", end= \" \")\n",
    "for i in range(1,9,2):\n",
    "    print(lst[i], end=\" \")\n",
    "\n",
    "print(\"\\nTwo parameters:\", end= \" \")\n",
    "\n",
    "for i in range(1,9):\n",
    "    print(lst[i], end=\" \")\n",
    "    \n",
    "print(\"\\nOne parameter:\", end= \" \")\n",
    "\n",
    "for i in range(2):\n",
    "    print(lst[i], end=\" \")\n",
    "    \n"
   ]
  },
  {
   "cell_type": "markdown",
   "metadata": {},
   "source": [
    "## Question - 3"
   ]
  },
  {
   "cell_type": "code",
   "execution_count": 25,
   "metadata": {},
   "outputs": [
    {
     "name": "stdout",
     "output_type": "stream",
     "text": [
      "2.0\n"
     ]
    }
   ],
   "source": [
    "x = 6\n",
    "y = 3\n",
    "\n",
    "if (x-y > 25):\n",
    "    print(x*y)\n",
    "else:\n",
    "    print(x/y)"
   ]
  },
  {
   "cell_type": "markdown",
   "metadata": {},
   "source": [
    "## Question - 4"
   ]
  },
  {
   "cell_type": "code",
   "execution_count": 26,
   "metadata": {},
   "outputs": [
    {
     "name": "stdout",
     "output_type": "stream",
     "text": [
      "Sqaure of the number minus 2:   2\n",
      "Sqaure of the number minus 2:   14\n",
      "Sqaure of the number minus 2:   34\n",
      "Sqaure of the number minus 2:   62\n",
      "Sqaure of the number minus 2:   98\n"
     ]
    }
   ],
   "source": [
    "lst1 = [1,2,3,4,5,6,7,8,9,10]\n",
    "\n",
    "for i in lst:\n",
    "    if(i % 2 == 0):\n",
    "        print(\"Sqaure of the number minus 2:  \", i ** 2 - 2)"
   ]
  },
  {
   "cell_type": "markdown",
   "metadata": {},
   "source": [
    "## Question - 5"
   ]
  },
  {
   "cell_type": "code",
   "execution_count": 33,
   "metadata": {},
   "outputs": [
    {
     "name": "stdout",
     "output_type": "stream",
     "text": [
      "15 16 17 18 19 20 "
     ]
    }
   ],
   "source": [
    "lst1 = [11,12,13,14,15,16,17,18,19,20]\n",
    "for i in lst1:\n",
    "    if((i / 2) > 7):\n",
    "        print(i, end=\" \")\n"
   ]
  }
 ],
 "metadata": {
  "kernelspec": {
   "display_name": "Python 3",
   "language": "python",
   "name": "python3"
  },
  "language_info": {
   "codemirror_mode": {
    "name": "ipython",
    "version": 3
   },
   "file_extension": ".py",
   "mimetype": "text/x-python",
   "name": "python",
   "nbconvert_exporter": "python",
   "pygments_lexer": "ipython3",
   "version": "3.7.6"
  }
 },
 "nbformat": 4,
 "nbformat_minor": 4
}
